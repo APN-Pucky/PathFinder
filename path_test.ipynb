{
 "cells": [
  {
   "cell_type": "markdown",
   "metadata": {},
   "source": [
    "This is a very basic jupyter tutorial for the Hereditary Depth First Search (HDFS) from the PathFinder module.\n",
    "\n",
    "The aim of this exercise is to identify the optimum subset of elements, where elements could refer to a set of features for ML training, Linear Regression or experimental observables. Given access to a pair-wise relation matrix - e.g. Pearson Correlation, Fisher Information, Joint Mutual Information, ... - one can construct a Binary Acceptance Matrix (BAM) by defining a threshold (T) below which combination is allowed. The HDFS algorithm will efficiently identify all subsets of elements whose pair-wise relations fall below T for all elements in the subset. Thus the HDFS algorithm provides a list of subsets containing minimally 'related' elements. "
   ]
  },
  {
   "cell_type": "code",
   "execution_count": 1,
   "metadata": {},
   "outputs": [],
   "source": [
    "# preamble\n",
    "%matplotlib inline\n",
    "from math import isclose\n",
    "import numpy as np\n",
    "import pathfinder as pf\n",
    "from pathfinder import plot_results"
   ]
  },
  {
   "cell_type": "markdown",
   "metadata": {},
   "source": [
    "Set random seed for the pseudo data generation"
   ]
  },
  {
   "cell_type": "code",
   "execution_count": 2,
   "metadata": {},
   "outputs": [
    {
     "name": "stdout",
     "output_type": "stream",
     "text": [
      "seed = 0\n"
     ]
    }
   ],
   "source": [
    "seed = 0\n",
    "np.random.seed(seed) \n",
    "print(f\"seed = {seed}\")"
   ]
  },
  {
   "cell_type": "markdown",
   "metadata": {},
   "source": [
    "Here we will create the \"Binary Acceptance Matrix\" (BAM). \\\n",
    "\\\n",
    "The BAM ($\\rho$) is a symmetric Boolean matrix that provides the pair-wise combination condition i.e element $i$ can be combined with element $j$ if $\\rho_{ij}$ = True  \\\n",
    "\\\n",
    "For this example we will create a 'pseudo' BAM by randomly generating matrix elements with Boolean values distributed as follows:\n",
    "\n",
    "$ P(\\rho_{ij}=True) = p$ \\\n",
    "\\\n",
    " $P(\\rho_{ij}=False) = 1-p$"
   ]
  },
  {
   "cell_type": "code",
   "execution_count": 3,
   "metadata": {},
   "outputs": [],
   "source": [
    "N = 25                                                                          # Matrix size\n",
    "p = 0.5                                                                         # Distribution of True values \n",
    "pseudo = np.triu(np.random.choice([True, False], size=(N,N), p=[p, 1-p]), 1)    # Construct BAM values \n",
    "pseudo += pseudo.T                                                              # Construct symmetric matrix\n",
    "pseudo = np.loadtxt(\"pseudo.csv\", delimiter=\",\").astype(int) > 0.5"
   ]
  },
  {
   "cell_type": "markdown",
   "metadata": {},
   "source": [
    "The HDFS algorithm identifies **all** allowed subsets using the Binary Acceptance Matrix. \\\n",
    "To determine optimum set the user can provide a list of weights, the results will be ranked by highest total sum. \\\n",
    "Without weights the \"**find_paths**\" method will return the longest paths as if uniformly weighted to 1.\n",
    "\n"
   ]
  },
  {
   "cell_type": "code",
   "execution_count": 4,
   "metadata": {},
   "outputs": [
    {
     "data": {
      "text/plain": [
       "<Axes: >"
      ]
     },
     "execution_count": 4,
     "metadata": {},
     "output_type": "execute_result"
    },
    {
     "data": {
      "image/png": "[encoded data removed]",
      "text/plain": [
       "<Figure size 1600x1066.67 with 1 Axes>"
      ]
     },
     "metadata": {},
     "output_type": "display_data"
    }
   ],
   "source": [
    "weights= np.sort(np.random.rand(N))[::-1]                                       # Generate pseudo weights (descending order)\n",
    "weights = np.loadtxt(\"weights.csv\", delimiter=\",\")\n",
    "bam = pf.BinaryAcceptance(pseudo, weights=weights)                              # Provide pseudo BAM and Weights to BinaryAcceptance class\n",
    "plot_results.plot(bam)                                                          # Plot the BAM"
   ]
  },
  {
   "cell_type": "markdown",
   "metadata": {},
   "source": [
    "Provide the **BinaryAcceptance** Object to **HDFS** and run **find_paths** to get the top 5 results"
   ]
  },
  {
   "cell_type": "code",
   "execution_count": 5,
   "metadata": {
    "scrolled": false
   },
   "outputs": [
    {
     "name": "stdout",
     "output_type": "stream",
     "text": [
      "[<generator object HDFS.hdfs.<locals>.<genexpr> at 0x7f9fe58b0e40>]\n",
      "stacklen 1\n",
      "stack [<generator object HDFS.hdfs.<locals>.<genexpr> at 0x7f9fe58b0e40>]\n",
      "children <generator object HDFS.hdfs.<locals>.<genexpr> at 0x7f9fe58b0e40>\n",
      "visited {0: None}\n",
      "good_nodes [{4, 5}]\n",
      "child 4\n",
      "add child to visited 4\n",
      "target not in visited\n",
      "add good_children {5}\n",
      "add good_nodes [{4, 5}, {5}]\n",
      "stacklen 2\n",
      "stack [<generator object HDFS.hdfs.<locals>.<genexpr> at 0x7f9fe58b0e40>, <generator object HDFS.hdfs.<locals>.<genexpr> at 0x7f9fe60ad7b0>]\n",
      "children <generator object HDFS.hdfs.<locals>.<genexpr> at 0x7f9fe60ad7b0>\n",
      "visited {0: None, 4: None}\n",
      "good_nodes [{4, 5}, {5}]\n",
      "child 5\n",
      "add child to visited 5\n",
      "target in visited\n",
      "stacklen 2\n",
      "stack [<generator object HDFS.hdfs.<locals>.<genexpr> at 0x7f9fe58b0e40>, <generator object HDFS.hdfs.<locals>.<genexpr> at 0x7f9fe60ad7b0>]\n",
      "children <generator object HDFS.hdfs.<locals>.<genexpr> at 0x7f9fe60ad7b0>\n",
      "visited {0: None, 4: None}\n",
      "good_nodes [{4, 5}, {5}]\n",
      "child None\n",
      "stacklen 1\n",
      "stack [<generator object HDFS.hdfs.<locals>.<genexpr> at 0x7f9fe58b0e40>]\n",
      "children <generator object HDFS.hdfs.<locals>.<genexpr> at 0x7f9fe58b0e40>\n",
      "visited {0: None}\n",
      "good_nodes [{4, 5}]\n",
      "child 5\n",
      "add child to visited 5\n",
      "target in visited\n",
      "stacklen 1\n",
      "stack [<generator object HDFS.hdfs.<locals>.<genexpr> at 0x7f9fe58b0e40>]\n",
      "children <generator object HDFS.hdfs.<locals>.<genexpr> at 0x7f9fe58b0e40>\n",
      "visited {0: None}\n",
      "good_nodes [{4, 5}]\n",
      "child None\n",
      "[<generator object HDFS.hdfs.<locals>.<genexpr> at 0x7f9fe58b0e40>]\n",
      "stacklen 1\n",
      "stack [<generator object HDFS.hdfs.<locals>.<genexpr> at 0x7f9fe58b0e40>]\n",
      "children <generator object HDFS.hdfs.<locals>.<genexpr> at 0x7f9fe58b0e40>\n",
      "visited {1: None}\n",
      "good_nodes [{4, 5}]\n",
      "child 4\n",
      "add child to visited 4\n",
      "target not in visited\n",
      "add good_children {5}\n",
      "add good_nodes [{4, 5}, {5}]\n",
      "stacklen 2\n",
      "stack [<generator object HDFS.hdfs.<locals>.<genexpr> at 0x7f9fe58b0e40>, <generator object HDFS.hdfs.<locals>.<genexpr> at 0x7f9fe60ad7b0>]\n",
      "children <generator object HDFS.hdfs.<locals>.<genexpr> at 0x7f9fe60ad7b0>\n",
      "visited {1: None, 4: None}\n",
      "good_nodes [{4, 5}, {5}]\n",
      "child 5\n",
      "add child to visited 5\n",
      "target in visited\n",
      "stacklen 2\n",
      "stack [<generator object HDFS.hdfs.<locals>.<genexpr> at 0x7f9fe58b0e40>, <generator object HDFS.hdfs.<locals>.<genexpr> at 0x7f9fe60ad7b0>]\n",
      "children <generator object HDFS.hdfs.<locals>.<genexpr> at 0x7f9fe60ad7b0>\n",
      "visited {1: None, 4: None}\n",
      "good_nodes [{4, 5}, {5}]\n",
      "child None\n",
      "stacklen 1\n",
      "stack [<generator object HDFS.hdfs.<locals>.<genexpr> at 0x7f9fe58b0e40>]\n",
      "children <generator object HDFS.hdfs.<locals>.<genexpr> at 0x7f9fe58b0e40>\n",
      "visited {1: None}\n",
      "good_nodes [{4, 5}]\n",
      "child 5\n",
      "add child to visited 5\n",
      "target in visited\n",
      "stacklen 1\n",
      "stack [<generator object HDFS.hdfs.<locals>.<genexpr> at 0x7f9fe58b0e40>]\n",
      "children <generator object HDFS.hdfs.<locals>.<genexpr> at 0x7f9fe58b0e40>\n",
      "visited {1: None}\n",
      "good_nodes [{4, 5}]\n",
      "child None\n",
      "[<generator object HDFS.hdfs.<locals>.<genexpr> at 0x7f9fe58b0e40>]\n",
      "stacklen 1\n",
      "stack [<generator object HDFS.hdfs.<locals>.<genexpr> at 0x7f9fe58b0e40>]\n",
      "children <generator object HDFS.hdfs.<locals>.<genexpr> at 0x7f9fe58b0e40>\n",
      "visited {2: None}\n",
      "good_nodes [{4, 5}]\n",
      "child 4\n",
      "add child to visited 4\n",
      "target not in visited\n",
      "add good_children {5}\n",
      "add good_nodes [{4, 5}, {5}]\n",
      "stacklen 2\n",
      "stack [<generator object HDFS.hdfs.<locals>.<genexpr> at 0x7f9fe58b0e40>, <generator object HDFS.hdfs.<locals>.<genexpr> at 0x7f9fe60ad030>]\n",
      "children <generator object HDFS.hdfs.<locals>.<genexpr> at 0x7f9fe60ad030>\n",
      "visited {2: None, 4: None}\n",
      "good_nodes [{4, 5}, {5}]\n",
      "child 5\n",
      "add child to visited 5\n",
      "target in visited\n",
      "stacklen 2\n",
      "stack [<generator object HDFS.hdfs.<locals>.<genexpr> at 0x7f9fe58b0e40>, <generator object HDFS.hdfs.<locals>.<genexpr> at 0x7f9fe60ad030>]\n",
      "children <generator object HDFS.hdfs.<locals>.<genexpr> at 0x7f9fe60ad030>\n",
      "visited {2: None, 4: None}\n",
      "good_nodes [{4, 5}, {5}]\n",
      "child None\n",
      "stacklen 1\n",
      "stack [<generator object HDFS.hdfs.<locals>.<genexpr> at 0x7f9fe58b0e40>]\n",
      "children <generator object HDFS.hdfs.<locals>.<genexpr> at 0x7f9fe58b0e40>\n",
      "visited {2: None}\n",
      "good_nodes [{4, 5}]\n",
      "child 5\n",
      "add child to visited 5\n",
      "target in visited\n",
      "stacklen 1\n",
      "stack [<generator object HDFS.hdfs.<locals>.<genexpr> at 0x7f9fe58b0e40>]\n",
      "children <generator object HDFS.hdfs.<locals>.<genexpr> at 0x7f9fe58b0e40>\n",
      "visited {2: None}\n",
      "good_nodes [{4, 5}]\n",
      "child None\n",
      "[<generator object HDFS.hdfs.<locals>.<genexpr> at 0x7f9fe58b1000>]\n",
      "stacklen 1\n",
      "stack [<generator object HDFS.hdfs.<locals>.<genexpr> at 0x7f9fe58b1000>]\n",
      "children <generator object HDFS.hdfs.<locals>.<genexpr> at 0x7f9fe58b1000>\n",
      "visited {3: None}\n",
      "good_nodes [{5}]\n",
      "child 5\n",
      "add child to visited 5\n",
      "target in visited\n",
      "stacklen 1\n",
      "stack [<generator object HDFS.hdfs.<locals>.<genexpr> at 0x7f9fe58b1000>]\n",
      "children <generator object HDFS.hdfs.<locals>.<genexpr> at 0x7f9fe58b1000>\n",
      "visited {3: None}\n",
      "good_nodes [{5}]\n",
      "child None\n",
      "[<generator object HDFS.hdfs.<locals>.<genexpr> at 0x7f9fe58b0040>]\n",
      "stacklen 1\n",
      "stack [<generator object HDFS.hdfs.<locals>.<genexpr> at 0x7f9fe58b0040>]\n",
      "children <generator object HDFS.hdfs.<locals>.<genexpr> at 0x7f9fe58b0040>\n",
      "visited {4: None}\n",
      "good_nodes [{5}]\n",
      "child 5\n",
      "add child to visited 5\n",
      "target in visited\n",
      "stacklen 1\n",
      "stack [<generator object HDFS.hdfs.<locals>.<genexpr> at 0x7f9fe58b0040>]\n",
      "children <generator object HDFS.hdfs.<locals>.<genexpr> at 0x7f9fe58b0040>\n",
      "visited {4: None}\n",
      "good_nodes [{5}]\n",
      "child None\n",
      "1: Path = [0, 4],  Weight = 1.1388441657113242,\n",
      "2: Path = [1, 4],  Weight = 1.0264181754105486,\n",
      "3: Path = [2, 4],  Weight = 0.9724683032662295,\n",
      "4: Path = [3],  Weight = 0.5448831829968969,\n",
      "5: Path = [],  Weight = 0.0\n"
     ]
    }
   ],
   "source": [
    "hdfs = pf.HDFS(bam, top=10, ignore_subset=True)\n",
    "hdfs.find_paths(verbose=True)"
   ]
  },
  {
   "cell_type": "markdown",
   "metadata": {},
   "source": [
    "Provide the **BinaryAcceptance** Object to **WHDFS** and run **find_paths** to get the top 5 results"
   ]
  },
  {
   "cell_type": "code",
   "execution_count": 6,
   "metadata": {},
   "outputs": [
    {
     "name": "stdout",
     "output_type": "stream",
     "text": [
      "1: Path = [0, 4],  Weight = 1.1388441657113242,\n",
      "2: Path = [1, 4],  Weight = 1.0264181754105486,\n",
      "3: Path = [2, 4],  Weight = 0.9724683032662295,\n",
      "4: Path = [3],  Weight = 0.5448831829968969,\n",
      "5: Path = [],  Weight = 0.0\n"
     ]
    }
   ],
   "source": [
    "whdfs = pf.WHDFS(bam, top=10, ignore_subset=True)\n",
    "whdfs.find_paths(verbose=True)"
   ]
  },
  {
   "cell_type": "code",
   "execution_count": 7,
   "metadata": {},
   "outputs": [
    {
     "name": "stdout",
     "output_type": "stream",
     "text": [
      "WHDFS == HDFS\n",
      "Object comparison: True\n",
      "Weight comparison: True (fp tolerance 1e-9)\n",
      "Path comparison:   True\n"
     ]
    }
   ],
   "source": [
    "print(\"WHDFS == HDFS\")\n",
    "print(f\"Object comparison: {whdfs.res == hdfs.res}\")\n",
    "print(f\"Weight comparison: {all([isclose(w.weight, h.weight) for w, h in zip(whdfs.res, hdfs.res)])} (fp tolerance 1e-9)\")\n",
    "print(f\"Path comparison:   {all([w.path == h.path for w, h in zip(whdfs.res, hdfs.res)])}\")"
   ]
  },
  {
   "cell_type": "markdown",
   "metadata": {},
   "source": [
    "Plot Results"
   ]
  },
  {
   "cell_type": "code",
   "execution_count": 8,
   "metadata": {},
   "outputs": [
    {
     "data": {
      "text/plain": [
       "<Axes: >"
      ]
     },
     "execution_count": 8,
     "metadata": {},
     "output_type": "execute_result"
    },
    {
     "data": {
      "image/png": "[encoded data removed]",
      "text/plain": [
       "<Figure size 1600x1066.67 with 1 Axes>"
      ]
     },
     "metadata": {},
     "output_type": "display_data"
    }
   ],
   "source": [
    "plot_results.plot(bam, whdfs)"
   ]
  },
  {
   "cell_type": "code",
   "execution_count": null,
   "metadata": {},
   "outputs": [],
   "source": []
  },
  {
   "cell_type": "code",
   "execution_count": null,
   "metadata": {},
   "outputs": [],
   "source": []
  }
 ],
 "metadata": {
  "kernelspec": {
   "display_name": "Python 3 (ipykernel)",
   "language": "python",
   "name": "python3"
  },
  "language_info": {
   "codemirror_mode": {
    "name": "ipython",
    "version": 3
   },
   "file_extension": ".py",
   "mimetype": "text/x-python",
   "name": "python",
   "nbconvert_exporter": "python",
   "pygments_lexer": "ipython3",
   "version": "3.11.4"
  }
 },
 "nbformat": 4,
 "nbformat_minor": 2
}
